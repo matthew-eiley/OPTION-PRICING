{
 "cells": [
  {
   "cell_type": "markdown",
   "metadata": {},
   "source": [
    "# Options Pricing\n",
    "This Jupyter notebook contains the enitre implementation of my options pricing model."
   ]
  },
  {
   "cell_type": "code",
   "execution_count": 3,
   "metadata": {},
   "outputs": [],
   "source": [
    "# import the necessary libaries\n",
    "import math\n",
    "import numpy as np\n",
    "from scipy.stats import norm, mvn"
   ]
  },
  {
   "cell_type": "markdown",
   "metadata": {},
   "source": [
    "## Overview\n",
    "This project is intended to price a type of financial product called [options](https://www.investopedia.com/terms/o/option.asp). These are a type of [financial derivative](https://www.investopedia.com/terms/d/derivative.asp). The models are mostly different variations of the [Black-Scholes-Merton (BSM) model](https://www.investopedia.com/terms/b/blackscholes.asp) that is used to price [European options](https://www.investopedia.com/terms/e/europeanoption.asp). This notebook also contains approximations to value [American options](https://www.investopedia.com/terms/a/americanoption.asp#:~:text=An%20American%20option%2C%20aka%20an,including%20the%20day%20of%20expiration.). <br/>\n",
    "*Note that the 76 appended to some of the models below is to indicate (in honour of the Black76 model) that it is for a commodity option*\n",
    "\n",
    "### Option Pricing Models\n",
    "| Pricing Models                                                          | Description                               |\n",
    "| ----------------------------------------------------------------------- | ----------------------------------------- |\n",
    "| [BlackScholes()](https://www.investopedia.com/terms/b/blackscholes.asp) | Stock options (no dividend yield)         |\n",
    "| [Merton()](https://www.investopedia.com/terms/m/mertonmodel.asp)        | Index options (continuous dividend yield) |\n",
    "| [Black76()](https://www.investopedia.com/terms/b/blacksmodel.asp)       | Commodity options                         |\n",
    "| GarmanKohlhagen()                                                       | FX options                                |\n",
    "| Asian76()                                                               | Asian options (on commodities)            |\n",
    "| Kirks76()                                                               | Spread options (Kirk's approximation)     |\n",
    "| American()                                                              | American options                          |\n",
    "| American76()                                                            | American options (on commodities)         |\n",
    "\n",
    "### Implied Volatility Calculations\n",
    "| Implied Volatility Formula | Description                       |\n",
    "| -------------------------- | --------------------------------- |\n",
    "| EuroIV()                   | European options                  |\n",
    "| EuroIV76()                 | European options (on commodities) |\n",
    "| AmerIV()                   | American options                  |\n",
    "| AmerIV76()                 | American options (on commodities) |"
   ]
  },
  {
   "cell_type": "markdown",
   "metadata": {},
   "source": [
    "## Theory\n",
    "\n",
    "### Generalized Black-Scholes\n",
    "\n",
    "The BSM model is what is typically used to price European options. The original BSM model was formulated in 1973 for non-dividend paying stocks. Since then, many extensions of this model have been created which are collectively referred to as the \"Black-Scholes Genre\" option models. In these other models, the original formula has been altered to price other options for other financial instruments like dividend paying stocks, commodity futures, and FX forwards. Mathematically, most of these models are quite similar, the main differences being whether or not the the asset has a [carrying cost](https://www.investopedia.com/terms/c/carrying-costs.asp) and how the present value of the asset is determined. \n",
    "\n",
    "The Black Scholes genre models are based on a number of assumptions about how financial markets operate:\n",
    "1. **Arbitrage-Free:** Traders try to maximize personal profits and don't allow for arbitrage opportunities.\n",
    "2. **Frictionless and Continuous:** It is possible to buy and sell any amount of the underlying at any time without any transaction costs.\n",
    "3. **Risk Free Rates:** It is possible to borrow/lend money at a risk-free interest rate.\n",
    "4. **Log-Normally Distributed Price Movements:** Prices are log-normally distributed and described by Geometric Brownian Motion.\n",
    "5. **Constant Volatility:** Volatility is constant across the life of the option contract.\n",
    "\n",
    "The traditional BSM model is used to price stock options based on the idea that stock prices follow a random path over time, starting from their current value. On average, prices are expected to rise at the risk-free interest rate. The Merton version adjusts the model to include dividends or other carrying costs. The Black-76 model changes the starting point from today’s price to a future (forward) price. Another variation, the Garman-Kohlhagen model, is used for pricing foreign exchange (FX) options. It accounts for the fact that each currency in a pair has its own interest rate.\n",
    "- **Black-Scholes (Stocks):** This model is used for options on regular stocks, which are priced based on their current market value (the “spot price”). The model assumes the stock price grows over time at the risk-free rate.\n",
    "- **Merton (Stocks with Dividends):** This version adjusts the Black-Scholes model for stocks that pay continuous dividends. Since option holders don’t receive dividends, the value of the option is slightly lower.\n",
    "- **Black-76 (Commodities and Futures):** This model is for options on futures or commodities, where pricing is based on a future delivery price instead of today’s price. The forward price is discounted back to present value.\n",
    "- **Garman-Kohlhagen (Foreign Exchange):** This model is used for FX options and adjusts for the fact that each currency in a pair has its own interest rate. Each currency’s future value is discounted using its respective rate.\n",
    "\n",
    "\n",
    "\n",
    "\n",
    "\n",
    "\n",
    "\n",
    "\n",
    "\n",
    "\n",
    "\n",
    "\n",
    "\n",
    "\n",
    "\n",
    "\n",
    "\n",
    "\n",
    "\n",
    "\n",
    "\n",
    "| Model            | Cost of Carry ($b$)   | \n",
    "|------------------|-----------------------| \n",
    "| Black Scholes    | $b = r$               | \n",
    "| Merton           | $b = r - q$           |\n",
    "| Black 76         | $b = 0$               |\n",
    "| Garman Kohlhagen | $b = r - rf$          | \n",
    "| Asian            | $b = 0$, modified $V$ |\n"
   ]
  }
 ],
 "metadata": {
  "kernelspec": {
   "display_name": ".venv",
   "language": "python",
   "name": "python3"
  },
  "language_info": {
   "codemirror_mode": {
    "name": "ipython",
    "version": 3
   },
   "file_extension": ".py",
   "mimetype": "text/x-python",
   "name": "python",
   "nbconvert_exporter": "python",
   "pygments_lexer": "ipython3",
   "version": "3.12.10"
  }
 },
 "nbformat": 4,
 "nbformat_minor": 2
}
