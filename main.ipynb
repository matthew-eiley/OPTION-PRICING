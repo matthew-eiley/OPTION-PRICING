{
 "cells": [
  {
   "cell_type": "markdown",
   "metadata": {},
   "source": [
    "# Options Pricing\n",
    "This Jupyter notebook contains the enitre implementation of my options pricing model."
   ]
  },
  {
   "cell_type": "code",
   "execution_count": 3,
   "metadata": {},
   "outputs": [],
   "source": [
    "# import the necessary libaries\n",
    "import math\n",
    "import numpy as np\n",
    "from scipy.stats import norm, mvn"
   ]
  },
  {
   "cell_type": "markdown",
   "metadata": {},
   "source": [
    "## Overview\n",
    "This project is intended to price a type of financial product called [options](https://www.investopedia.com/terms/o/option.asp). These are a type of [financial derivative](https://www.investopedia.com/terms/d/derivative.asp). The models are mostly different variations of the [Black-Scholes-Merton (BSM) model](https://www.investopedia.com/terms/b/blackscholes.asp) that is used to price [European options](https://www.investopedia.com/terms/e/europeanoption.asp). This notebook also contains approximations to value [American options](https://www.investopedia.com/terms/a/americanoption.asp#:~:text=An%20American%20option%2C%20aka%20an,including%20the%20day%20of%20expiration.).\n",
    "\n",
    "### Option Pricing Models\n",
    "| Pricing Models    | Description                               |\n",
    "| ----------------- | ----------------------------------------- |\n",
    "| BlackScholes()    | Stock options (no dividend yield)         |\n",
    "| Merton()          | Index options (continuous dividend yield) |\n",
    "| Black76()         | Commodity options                         |\n",
    "| GarmanKohlhagen() | FX options                                |\n",
    "| Asian76()         | Asian options (on commodities)            |\n",
    "| Kirks76()         | Spread options (Kirk's approximation)     |\n",
    "| American()        | American options                          |\n",
    "| American76()      | American options (on commodities)         |\n",
    "\n",
    "### Implied Volatility Calculations\n",
    "| Implied Volatility Formula | Description                       |\n",
    "| -------------------------- | --------------------------------- |\n",
    "| EuroIV()                   | European options                  |\n",
    "| EuroIV76()                 | European options (on commodities) |\n",
    "| AmerIV()                   | American options                  |\n",
    "| AmerIV76()                 | American options (on commodities) |"
   ]
  }
 ],
 "metadata": {
  "kernelspec": {
   "display_name": ".venv",
   "language": "python",
   "name": "python3"
  },
  "language_info": {
   "codemirror_mode": {
    "name": "ipython",
    "version": 3
   },
   "file_extension": ".py",
   "mimetype": "text/x-python",
   "name": "python",
   "nbconvert_exporter": "python",
   "pygments_lexer": "ipython3",
   "version": "3.12.10"
  }
 },
 "nbformat": 4,
 "nbformat_minor": 2
}
