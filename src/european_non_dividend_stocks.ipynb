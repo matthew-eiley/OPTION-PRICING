{
 "cells": [
  {
   "cell_type": "markdown",
   "metadata": {},
   "source": [
    "# European Options on Non-Dividend-Paying Stocks\n",
    "This is the classic case of a European option on a stock with no dividends. The Black-Scholes model\n",
    "applies, providing a closed-form solution for call and put prices. Implied volatility is obtained \n",
    "by inverting the Black-Scholes formula numerically (since no closed-form solution exists for $\\sigma$).\n"
   ]
  },
  {
   "cell_type": "code",
   "execution_count": 4,
   "metadata": {},
   "outputs": [],
   "source": [
    "# IMPORT NECESSARY PACKAGES\n",
    "from scipy.stats import norm\n",
    "import numpy as np"
   ]
  },
  {
   "cell_type": "markdown",
   "metadata": {},
   "source": [
    "\n",
    "## Pricing Model\n",
    "The Black-Scholes (1973) formula uses the Black-Scholes-Merton differential equation to price European calls and puts on a non-dividend-paying underlying. This model assumes no dividends during the option’s life and that exercise can only occur at expiration (European-style). The model requires five inputs: underlying price, strike, time to expiration, risk-free rate, and volatility). The call price formula is:\n",
    "$$\n",
    "C=SN(d_1)-Ke^{-rT}N(d_2)\n",
    "$$\n",
    "With:\n",
    "$$\n",
    "d_{1,2} = \\frac{\\ln\\left(\\frac{S}{K}\\right)+T\\left(r\\pm \\frac{\\sigma ^2}{2}\\right)}{\\sigma \\sqrt{T}}\n",
    "$$\n",
    "And $N(\\cdot)$ as the standard normal cumulative distribution function. The put price is obtained via put-call parity. \n",
    "\n",
    "### Function Signature\n",
    "Returns the theoretical option price for a call or put:\n",
    "\n",
    "`bs_price(S, K, T, r, sigma, option_type) -> float`"
   ]
  },
  {
   "cell_type": "code",
   "execution_count": null,
   "metadata": {},
   "outputs": [],
   "source": [
    "def bs_price(S, K, T, r, sigma, option_type):\n",
    "    d1 = (np.log(S/K) + (T*(r+((sigma**2)/2)))) / (sigma * np.sqrt(T))\n",
    "    d2 = d1 - (sigma * np.sqrt(T))\n",
    "    match option_type:\n",
    "        case 'c':\n",
    "            pass\n",
    "        case 'p':\n",
    "            pass"
   ]
  }
 ],
 "metadata": {
  "kernelspec": {
   "display_name": ".venv",
   "language": "python",
   "name": "python3"
  },
  "language_info": {
   "codemirror_mode": {
    "name": "ipython",
    "version": 3
   },
   "file_extension": ".py",
   "mimetype": "text/x-python",
   "name": "python",
   "nbconvert_exporter": "python",
   "pygments_lexer": "ipython3",
   "version": "3.12.10"
  }
 },
 "nbformat": 4,
 "nbformat_minor": 2
}
