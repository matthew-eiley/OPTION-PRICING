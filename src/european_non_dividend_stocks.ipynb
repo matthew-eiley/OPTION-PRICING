{
 "cells": [
  {
   "cell_type": "markdown",
   "metadata": {},
   "source": [
    "# European Options on Non-Dividend-Paying Stocks\n",
    "This is the classic case of a European option on a stock with no dividends. The Black-Scholes model\n",
    "applies, providing a closed-form solution for call and put prices. Implied volatility is obtained \n",
    "by inverting the Black-Scholes formula numerically (since no closed-form solution exists for $\\sigma$).\n"
   ]
  },
  {
   "cell_type": "code",
   "execution_count": 16,
   "metadata": {},
   "outputs": [],
   "source": [
    "# IMPORT NECESSARY PACKAGES\n",
    "from scipy.stats import norm\n",
    "from scipy.optimize import brentq\n",
    "import numpy as np"
   ]
  },
  {
   "cell_type": "markdown",
   "metadata": {},
   "source": [
    "\n",
    "## Pricing Model\n",
    "The Black-Scholes (1973) formula uses the Black-Scholes-Merton differential equation to price European calls and puts on a non-dividend-paying underlying. This model assumes no dividends during the option’s life and that exercise can only occur at expiration (European-style). The model requires five inputs:\n",
    "| Input | Description |\n",
    "| ----- | ----------- |\n",
    "| `S` |\tSpot price of the underlying asset (i.e. current market price) |\n",
    "| `K` | Strike price. The fixed price at which the option can be exercised |\n",
    "| `T` |\tTime to expiration, in years (e.g., 6 months = 0.5) |\n",
    "| `r` |\tRisk-free interest rate, continuously compounded (e.g., 5% = 0.05) |\n",
    "| `sigma` |\tVolatility of the underlying asset (annualized standard deviation) |\n",
    "| `option_type` | Type of option: `c` for call, `p` for put |\n",
    "\n",
    "The formulas are:\n",
    "$$\n",
    "C=SN(d_1)-Ke^{-rT}N(d_2)\n",
    "$$\n",
    "$$\n",
    "P=Ke^{-rT}N(-d_2)-SN(-d_1)\n",
    "$$\n",
    "With:\n",
    "$$\n",
    "d_{1,2} = \\frac{\\ln\\left(\\frac{S}{K}\\right)+T\\left(r\\pm \\frac{\\sigma ^2}{2}\\right)}{\\sigma \\sqrt{T}}\n",
    "$$\n",
    "And $N(\\cdot)$ as the standard normal cumulative distribution function. The put price is obtained via put-call parity. \n",
    "\n",
    "#### Function Signature\n",
    "Returns the theoretical option price for a call or put:\n",
    "\n",
    "`bs_price(S, K, T, r, sigma, option_type) -> float`"
   ]
  },
  {
   "cell_type": "code",
   "execution_count": 24,
   "metadata": {},
   "outputs": [],
   "source": [
    "def get_ds(S, K, T, r, sigma):\n",
    "    d1 = (np.log(S/K) + (T*(r+((sigma**2)/2)))) / (sigma * np.sqrt(T))\n",
    "    d2= d1 - (sigma * np.sqrt(T))\n",
    "    return (d1, d2)\n",
    "\n",
    "def bs_price(S, K, T, r, sigma, option_type):\n",
    "    d1 = get_ds(S, K, T, r, sigma)[0]\n",
    "    d2 = get_ds(S, K, T, r, sigma)[1]\n",
    "    match option_type:\n",
    "        case 'c':\n",
    "            return (S * norm.cdf(d1)) - (K * np.exp(-1*r*T) * norm.cdf(d2))\n",
    "        case 'p':\n",
    "            return (K * np.exp(-1*r*T) * norm.cdf(-1*d2)) - (S * norm.cdf(-1*d1))"
   ]
  },
  {
   "cell_type": "markdown",
   "metadata": {},
   "source": [
    "## Implied Volatility\n",
    "\n",
    "Black-Scholes implied volatility – Solve for $\\sigma$ by numerically inverting the Black-Scholes pricing function. Given a market option price, this function finds the $\\sigma$ that reproduces this price in the Black-Scholes formula. There is no closed-form solution for implied vol in the Black-Scholes model, so the Brent's (iterative) method is used.\n",
    "\n",
    "#### Function Signature\n",
    "Returns the implied volatility for given option:\n",
    "\n",
    "`bs_implied_vol(price, S, K, T, r, option_type) -> float`"
   ]
  },
  {
   "cell_type": "code",
   "execution_count": 20,
   "metadata": {},
   "outputs": [],
   "source": [
    "def bs_implied_vol(price, S, K, T, r, option_type):\n",
    "    def objective(sigma):\n",
    "        return bs_price(S, K, T, r, sigma, option_type) - price\n",
    "    return brentq(objective, 1e-6, 5.0)"
   ]
  },
  {
   "cell_type": "markdown",
   "metadata": {},
   "source": [
    "## Greeks\n",
    "\n",
    "These are all first or second-order partial derivatives of the option pricing function $V(S,K,T,r,\\sigma)$ to measure how the option's price reacts to changes in market inputs.\n",
    "\n",
    "- **Delta ($\\Delta$):** Sensitivity of the option’s price to changes in the underlying asset price.\n",
    "- **Gamma ($\\Gamma$):** The rate of change of delta with respect to the underlying price (i.e. how stable delta is).\n",
    "- **Vega ($\\nu$):** Sensitivity of the option’s price to changes in volatility ($\\sigma$).\n",
    "- **Theta ($\\Theta$):** Sensitivity of the option’s price to the passage of time (i.e., time decay).\n",
    "- **Rho ($\\rho$):** Sensitivity of the option’s price to changes in the risk-free interest rate.\n",
    "\n",
    "These measures are defined as follows:\n",
    "$$\\Delta = \\frac{\\partial V}{\\partial S}$$\n",
    "$$\\Gamma = \\frac{\\partial^2 V}{\\partial S^2}$$\n",
    "$$\\nu = \\frac{\\partial V}{\\partial \\sigma}$$\n",
    "$$\\Theta = -\\frac{\\partial V}{\\partial T}$$\n",
    "$$\\rho = \\frac{\\partial V}{\\partial r}$$\n",
    "\n",
    "The only new variable introduced in these calculations is $n(\\cdot)$, which is the standard normal probability density function.\n",
    "#### Function Signature\n",
    "Returns a dictionary of the greeks for the given option:\n",
    "\n",
    "`bs_implied_vol(price, S, K, T, r, option_type) -> dict`\n",
    "\n",
    "`{\"delta\": , \"gamma\": , \"vega\": , \"theta\": , \"rho\": ,}`"
   ]
  },
  {
   "cell_type": "code",
   "execution_count": null,
   "metadata": {},
   "outputs": [],
   "source": [
    "def bs_greeks(S, K, T, r, sigma, option_type):\n",
    "    sol = {\"delta\":None, \"gamma\":None, \"vega\":None, \"theta\":None, \"rho\":None}\n",
    "    d1 = get_ds(S, K, T, r, sigma)[0]\n",
    "    d2 = get_ds(S, K, T, r, sigma)[1]\n",
    "    \n",
    "    match option_type:\n",
    "        case 'c':\n",
    "            delta = norm.cdf(d1)\n",
    "            gamma = norm.pdf(d1)/(S * sigma * np.sqrt(T))\n",
    "            vega = S * norm.pdf(d1) * np.sqrt(T)\n",
    "            theta = (-1 * ((S * norm.pdf(d1) * sigma)/(2 * np.sqrt(T)))) - (r * K * np.exp(-1*r*T) * norm.cdf(d2))\n",
    "            rho = K * T * np.exp(-1*r*T) * norm.cdf(d2)\n",
    "        case 'p':\n",
    "            delta = norm.cdf(d1) - 1\n",
    "            gamma = norm.pdf(d1)/(S * sigma * np.sqrt(T))\n",
    "            vega = S * norm.pdf(d1) * np.sqrt(T)\n",
    "            theta = (-1 * ((S * norm.pdf(d1) * sigma)/(2 * np.sqrt(T)))) + (r * K * np.exp(-1*r*T) * norm.cdf(-1*d2))\n",
    "            rho = -1 * K * T * np.exp(-1*r*T) * norm.cdf(-1*d2)\n",
    "\n",
    "    sol[\"delta\"] = delta\n",
    "    sol[\"gamma\"] = gamma\n",
    "    sol[\"vega\"] = vega / 100\n",
    "    sol[\"theta\"] = theta / 365\n",
    "    sol[\"rho\"] = rho / 100\n",
    "    \n",
    "    return sol"
   ]
  }
 ],
 "metadata": {
  "kernelspec": {
   "display_name": ".venv",
   "language": "python",
   "name": "python3"
  },
  "language_info": {
   "codemirror_mode": {
    "name": "ipython",
    "version": 3
   },
   "file_extension": ".py",
   "mimetype": "text/x-python",
   "name": "python",
   "nbconvert_exporter": "python",
   "pygments_lexer": "ipython3",
   "version": "3.12.10"
  }
 },
 "nbformat": 4,
 "nbformat_minor": 2
}
